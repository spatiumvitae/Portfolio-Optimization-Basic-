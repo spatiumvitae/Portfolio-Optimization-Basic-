{
  "nbformat": 4,
  "nbformat_minor": 0,
  "metadata": {
    "colab": {
      "provenance": []
    },
    "kernelspec": {
      "name": "python3",
      "display_name": "Python 3"
    },
    "language_info": {
      "name": "python"
    }
  },
  "cells": [
    {
      "cell_type": "code",
      "execution_count": 1,
      "metadata": {
        "id": "UpCZzhl5ndUE"
      },
      "outputs": [],
      "source": [
        "import yfinance as yf\n",
        "import pandas as pd\n",
        "import matplotlib.pyplot as plt\n",
        "from datetime import datetime, timedelta\n",
        "import numpy as np\n",
        "from scipy.optimize import minimize"
      ]
    },
    {
      "cell_type": "markdown",
      "source": [
        "**Define Tickers and Time ranges**"
      ],
      "metadata": {
        "id": "I3YJz69doIVC"
      }
    },
    {
      "cell_type": "markdown",
      "source": [
        "Define the list of tickers"
      ],
      "metadata": {
        "id": "e669bTXjoQ1E"
      }
    },
    {
      "cell_type": "code",
      "source": [
        "tickers = ['SPY', 'BND', 'GLD', 'QQQ', 'VTI']"
      ],
      "metadata": {
        "id": "WVvo1Z9RoEh8"
      },
      "execution_count": 2,
      "outputs": []
    },
    {
      "cell_type": "markdown",
      "source": [
        "Set the end date to today"
      ],
      "metadata": {
        "id": "Rnu7HrYSoow8"
      }
    },
    {
      "cell_type": "code",
      "source": [
        "end_date = datetime.today()"
      ],
      "metadata": {
        "id": "3HTZCenEom8t"
      },
      "execution_count": 3,
      "outputs": []
    },
    {
      "cell_type": "markdown",
      "source": [
        "Set the satrt date to 5 years ago"
      ],
      "metadata": {
        "id": "zk2kCHeFoycC"
      }
    },
    {
      "cell_type": "code",
      "source": [
        "start_date = end_date - timedelta(days = 5 * 365)\n",
        "print(start_date)"
      ],
      "metadata": {
        "colab": {
          "base_uri": "https://localhost:8080/"
        },
        "id": "iq8J2ofhov2f",
        "outputId": "64561ed9-fead-4c19-bd88-fa5756cda9ca"
      },
      "execution_count": 4,
      "outputs": [
        {
          "output_type": "stream",
          "name": "stdout",
          "text": [
            "2020-03-31 07:41:36.264650\n"
          ]
        }
      ]
    },
    {
      "cell_type": "markdown",
      "source": [
        "**Download adjusted close prices**"
      ],
      "metadata": {
        "id": "y8bn6cPjpG1t"
      }
    },
    {
      "cell_type": "markdown",
      "source": [
        "Create an empty DataFrame to store the adjusted close prices"
      ],
      "metadata": {
        "id": "Tpdo8n7ypLwv"
      }
    },
    {
      "cell_type": "code",
      "source": [
        "adj_close_df = pd.DataFrame()"
      ],
      "metadata": {
        "id": "i1xj4RM8pDUi"
      },
      "execution_count": 5,
      "outputs": []
    },
    {
      "cell_type": "code",
      "source": [
        "for ticker in tickers:\n",
        "  data = yf.download(ticker, start = start_date, end = end_date)\n",
        "  adj_close_col = 'Adj Close' if 'Adj Close' in data.columns else 'Close'\n",
        "  adj_close_df[ticker] = data[adj_close_col]"
      ],
      "metadata": {
        "colab": {
          "base_uri": "https://localhost:8080/"
        },
        "id": "dWH2eK0Zpjo5",
        "outputId": "16e00018-a08d-4707-af81-85d87f14b92c"
      },
      "execution_count": 6,
      "outputs": [
        {
          "output_type": "stream",
          "name": "stdout",
          "text": [
            "YF.download() has changed argument auto_adjust default to True\n"
          ]
        },
        {
          "output_type": "stream",
          "name": "stderr",
          "text": [
            "[*********************100%***********************]  1 of 1 completed\n",
            "[*********************100%***********************]  1 of 1 completed\n",
            "[*********************100%***********************]  1 of 1 completed\n",
            "[*********************100%***********************]  1 of 1 completed\n",
            "[*********************100%***********************]  1 of 1 completed\n"
          ]
        }
      ]
    },
    {
      "cell_type": "markdown",
      "source": [
        "Display the dataframe"
      ],
      "metadata": {
        "id": "xaMR1tAEqkL5"
      }
    },
    {
      "cell_type": "code",
      "source": [
        "print(adj_close_df)"
      ],
      "metadata": {
        "colab": {
          "base_uri": "https://localhost:8080/"
        },
        "id": "fMC402cOp2op",
        "outputId": "3407479c-f3d6-4a7e-efcf-c2dda91f8e6f"
      },
      "execution_count": 7,
      "outputs": [
        {
          "output_type": "stream",
          "name": "stdout",
          "text": [
            "                   SPY        BND         GLD         QQQ         VTI\n",
            "Date                                                                 \n",
            "2020-03-31  239.650574  74.233727  148.050003  184.773239  119.647011\n",
            "2020-04-01  228.865143  74.617287  149.449997  176.922318  114.124557\n",
            "2020-04-02  234.146317  74.965958  151.899994  180.512985  116.500603\n",
            "2020-04-03  230.761917  74.931107  152.649994  177.951035  114.514374\n",
            "2020-04-06  246.261276  75.166435  156.880005  190.673538  122.524284\n",
            "...                ...        ...         ...         ...         ...\n",
            "2025-03-24  574.080017  73.000000  277.250000  490.660004  283.015045\n",
            "2025-03-25  575.460022  73.089996  278.470001  493.459991  283.493317\n",
            "2025-03-26  568.590027  72.930000  278.239990  484.380005  280.175018\n",
            "2025-03-27  567.080017  72.900002  281.970001  481.619995  278.989990\n",
            "2025-03-28  555.659973  73.320000  284.059998  468.940002  273.429993\n",
            "\n",
            "[1256 rows x 5 columns]\n"
          ]
        }
      ]
    },
    {
      "cell_type": "markdown",
      "source": [
        "**calculate the lognoramal returns**"
      ],
      "metadata": {
        "id": "TLp4P3ppqqmJ"
      }
    },
    {
      "cell_type": "markdown",
      "source": [
        "calculate the lognormal returns for each ticker"
      ],
      "metadata": {
        "id": "OMsN3XayqxJE"
      }
    },
    {
      "cell_type": "code",
      "source": [
        "log_returns = np.log(adj_close_df / adj_close_df.shift(1))"
      ],
      "metadata": {
        "id": "oNlPJjR6qoTC"
      },
      "execution_count": 8,
      "outputs": []
    },
    {
      "cell_type": "markdown",
      "source": [
        "Drop missing values"
      ],
      "metadata": {
        "id": "S8a0atjfrH3T"
      }
    },
    {
      "cell_type": "code",
      "source": [
        "log_returns = log_returns.dropna()"
      ],
      "metadata": {
        "id": "E-anuVzlrGN4"
      },
      "execution_count": 9,
      "outputs": []
    },
    {
      "cell_type": "markdown",
      "source": [
        "**Calculate the covariance matrix**"
      ],
      "metadata": {
        "id": "DVD1yTA9rQQ5"
      }
    },
    {
      "cell_type": "markdown",
      "source": [
        "Calculate the covarialnce matrix using annualized log returns"
      ],
      "metadata": {
        "id": "14g6x-JTrXUQ"
      }
    },
    {
      "cell_type": "code",
      "source": [
        "cov_matrix = log_returns.cov() * 252"
      ],
      "metadata": {
        "id": "fCgy97-RrNB_"
      },
      "execution_count": 10,
      "outputs": []
    },
    {
      "cell_type": "code",
      "source": [
        "print(cov_matrix)"
      ],
      "metadata": {
        "colab": {
          "base_uri": "https://localhost:8080/"
        },
        "id": "RcCJ6XmLrm8S",
        "outputId": "600a48c6-88cd-4755-d47e-1218a80ae4a6"
      },
      "execution_count": 11,
      "outputs": [
        {
          "output_type": "stream",
          "name": "stdout",
          "text": [
            "          SPY       BND       GLD       QQQ       VTI\n",
            "SPY  0.030686  0.001800  0.004095  0.037437  0.031473\n",
            "BND  0.001800  0.003470  0.003175  0.002645  0.001894\n",
            "GLD  0.004095  0.003175  0.022074  0.005857  0.004256\n",
            "QQQ  0.037437  0.002645  0.005857  0.053516  0.038353\n",
            "VTI  0.031473  0.001894  0.004256  0.038353  0.032627\n"
          ]
        }
      ]
    },
    {
      "cell_type": "markdown",
      "source": [
        "**Define portfolio performance metrics**"
      ],
      "metadata": {
        "id": "YQNSUBrLryt9"
      }
    },
    {
      "cell_type": "markdown",
      "source": [
        "Portfolio standard deviation"
      ],
      "metadata": {
        "id": "_mqZJ2s8sdiH"
      }
    },
    {
      "cell_type": "markdown",
      "source": [
        "This line of code calculates the portfolio variance, which is a measure associated witha portfolio of assets.b It represents the combined volatility of the assets in the portfolio, taking intop account their individual volatailities and corelations with each other."
      ],
      "metadata": {
        "id": "SIv8c_CksAwv"
      }
    },
    {
      "cell_type": "code",
      "source": [
        "def standard_deviation(weights, cov_matrix):\n",
        "  variance = weights.T @ cov_matrix @ weights\n",
        "  return np.sqrt(variance)"
      ],
      "metadata": {
        "id": "fio6PJpCrpW_"
      },
      "execution_count": 12,
      "outputs": []
    },
    {
      "cell_type": "markdown",
      "source": [
        "Calculate the expected returns\n",
        "\n",
        "key assumption : Expected returns are based on the historical returns"
      ],
      "metadata": {
        "id": "mm1jkGAys6WD"
      }
    },
    {
      "cell_type": "code",
      "source": [
        "def expected_returns(weights, log_returns):\n",
        "  return np.sum(log_returns.mean() * weights)*252"
      ],
      "metadata": {
        "id": "OiSoSktis486"
      },
      "execution_count": 13,
      "outputs": []
    },
    {
      "cell_type": "markdown",
      "source": [
        "Calculate the sharpe ratio"
      ],
      "metadata": {
        "id": "Quj3xSLjtrOm"
      }
    },
    {
      "cell_type": "code",
      "source": [
        "def sharpe_ratio(weights, log_returns, cov_matrix, risk_free_rate):\n",
        "  return (expected_returns(weights, log_returns) - risk_free_rate) / standard_deviation(weights, cov_matrix)"
      ],
      "metadata": {
        "id": "xY6ZfZUStnCP"
      },
      "execution_count": 14,
      "outputs": []
    },
    {
      "cell_type": "markdown",
      "source": [
        "**Portfolio Optimization**"
      ],
      "metadata": {
        "id": "MuI9jVbAuQB2"
      }
    },
    {
      "cell_type": "markdown",
      "source": [
        "Set the risk-free rate"
      ],
      "metadata": {
        "id": "1E1fslOUuWIh"
      }
    },
    {
      "cell_type": "code",
      "source": [
        "!pip install fredapi"
      ],
      "metadata": {
        "colab": {
          "base_uri": "https://localhost:8080/"
        },
        "id": "Hmq_oT47vRmK",
        "outputId": "838313ba-7707-441c-94f6-e139c956be46"
      },
      "execution_count": 15,
      "outputs": [
        {
          "output_type": "stream",
          "name": "stdout",
          "text": [
            "Collecting fredapi\n",
            "  Downloading fredapi-0.5.2-py3-none-any.whl.metadata (5.0 kB)\n",
            "Requirement already satisfied: pandas in /usr/local/lib/python3.11/dist-packages (from fredapi) (2.2.2)\n",
            "Requirement already satisfied: numpy>=1.23.2 in /usr/local/lib/python3.11/dist-packages (from pandas->fredapi) (2.0.2)\n",
            "Requirement already satisfied: python-dateutil>=2.8.2 in /usr/local/lib/python3.11/dist-packages (from pandas->fredapi) (2.8.2)\n",
            "Requirement already satisfied: pytz>=2020.1 in /usr/local/lib/python3.11/dist-packages (from pandas->fredapi) (2025.1)\n",
            "Requirement already satisfied: tzdata>=2022.7 in /usr/local/lib/python3.11/dist-packages (from pandas->fredapi) (2025.1)\n",
            "Requirement already satisfied: six>=1.5 in /usr/local/lib/python3.11/dist-packages (from python-dateutil>=2.8.2->pandas->fredapi) (1.17.0)\n",
            "Downloading fredapi-0.5.2-py3-none-any.whl (11 kB)\n",
            "Installing collected packages: fredapi\n",
            "Successfully installed fredapi-0.5.2\n"
          ]
        }
      ]
    },
    {
      "cell_type": "code",
      "source": [
        "from fredapi import Fred\n",
        "\n",
        "fred = Fred(api_key = '1a070069842ebd4c98d6effe4a28f1d7')\n",
        "ten_year_treasury_rate = fred.get_series_latest_release('GS10') / 100\n",
        "\n",
        "# SET THE RISK FREE RATE\n",
        "risk_free_rate = ten_year_treasury_rate.iloc[-1]\n",
        "print(risk_free_rate)"
      ],
      "metadata": {
        "colab": {
          "base_uri": "https://localhost:8080/"
        },
        "id": "-nTYXlrZuM5N",
        "outputId": "d6ad0fe2-828d-4a40-d62a-e055e46554bd"
      },
      "execution_count": 16,
      "outputs": [
        {
          "output_type": "stream",
          "name": "stdout",
          "text": [
            "0.044500000000000005\n"
          ]
        }
      ]
    },
    {
      "cell_type": "markdown",
      "source": [
        "**Define the function ot minimize(negative sharpe ratio)**"
      ],
      "metadata": {
        "id": "qXg4hluG4pS4"
      }
    },
    {
      "cell_type": "code",
      "source": [
        "def neg_sharpe_ratio(weights, log_returns, cov_matrix, risk_free_rate):\n",
        "  return -sharpe_ratio(weights, log_returns, cov_matrix, risk_free_rate)"
      ],
      "metadata": {
        "id": "13o_yETSv-gw"
      },
      "execution_count": 17,
      "outputs": []
    },
    {
      "cell_type": "markdown",
      "source": [
        "Set the constraints and bounds"
      ],
      "metadata": {
        "id": "8Vdfrzpm42jP"
      }
    },
    {
      "cell_type": "markdown",
      "source": [
        "Constraints are conditions tht must be met by the solution during the optimization process. In this case the constraint is sum of all portfolio weights must be equal to 1. The constraints variable is a dictionary with 2 keys : 'type' and 'fun'.\n",
        "\n",
        "'type' is set to 'eq' which means \"equality costraint\", and 'fun' is assigned in the fucntion check_sujm, which checks if the sum of the portfolio weigfhts equals 1.\n",
        "\n",
        "Bounds are limits placed on the variable sduring the optimization process. In this case, the variables are the portfolio weights and each weight should be between 0 and 1.\n"
      ],
      "metadata": {
        "id": "UqDtLLB547NR"
      }
    },
    {
      "cell_type": "code",
      "source": [
        "constraints = {'type': 'eq', 'fun': lambda x: np.sum(x) - 1}\n",
        "bounds = [(0, 0.5) for _ in range(len(tickers))]"
      ],
      "metadata": {
        "id": "g4BUbDwJ46mx"
      },
      "execution_count": 18,
      "outputs": []
    },
    {
      "cell_type": "markdown",
      "source": [
        "Set the initial weights"
      ],
      "metadata": {
        "id": "hqO1SYZ06BXs"
      }
    },
    {
      "cell_type": "code",
      "source": [
        "initial_weights = np.array([1/len(tickers)] * len(tickers))\n",
        "print(initial_weights)"
      ],
      "metadata": {
        "colab": {
          "base_uri": "https://localhost:8080/"
        },
        "id": "Boei31fG4zbL",
        "outputId": "e35c76a1-66d5-4010-8f0a-4e2c611bc026"
      },
      "execution_count": 19,
      "outputs": [
        {
          "output_type": "stream",
          "name": "stdout",
          "text": [
            "[0.2 0.2 0.2 0.2 0.2]\n"
          ]
        }
      ]
    },
    {
      "cell_type": "markdown",
      "source": [
        "**Optimzie the weights to maximize the sharpe ratio**"
      ],
      "metadata": {
        "id": "-pDEex4T6eIB"
      }
    },
    {
      "cell_type": "markdown",
      "source": [
        "'SLSQP' stands for Sequential Least Square Quadratic Programming, which is a numerical optimizatio technique suitable for solving non linear optimization problems with constraints."
      ],
      "metadata": {
        "id": "C4s_KZQd_YaY"
      }
    },
    {
      "cell_type": "code",
      "source": [
        "optimized_results = minimize(neg_sharpe_ratio, initial_weights, args = (log_returns, cov_matrix, risk_free_rate),\n",
        "                            method = 'SLSQP', bounds = bounds, constraints = constraints)"
      ],
      "metadata": {
        "id": "KxIpbbNW_0kx"
      },
      "execution_count": 20,
      "outputs": []
    },
    {
      "cell_type": "markdown",
      "source": [
        "Get optimal weights"
      ],
      "metadata": {
        "id": "0_ajc3Ez_x1I"
      }
    },
    {
      "cell_type": "code",
      "source": [
        "optimal_weights = optimized_results.x"
      ],
      "metadata": {
        "id": "HMqJYfSr6bgR"
      },
      "execution_count": 21,
      "outputs": []
    },
    {
      "cell_type": "markdown",
      "source": [
        "**Analyze the optimal portfolio**"
      ],
      "metadata": {
        "id": "X3fKcA9fAT0W"
      }
    },
    {
      "cell_type": "markdown",
      "source": [
        "Display analytics of the optimal portfolio"
      ],
      "metadata": {
        "id": "UrWNVLbbAZTh"
      }
    },
    {
      "cell_type": "code",
      "source": [
        "print(\"OPTIMAL WEIGHTS : \")\n",
        "for ticker, weight in zip(tickers, optimal_weights):\n",
        "  print(f\"{ticker}: {weight * 100:.2f}%\")\n",
        "\n",
        "print()\n",
        "\n",
        "optimal_portfolio_return = expected_returns(optimal_weights, log_returns)\n",
        "optimal_portfolio_volatility = standard_deviation(optimal_weights, cov_matrix)\n",
        "optimal_sharpe_ratio = sharpe_ratio(optimal_weights, log_returns, cov_matrix, risk_free_rate)\n",
        "\n",
        "print(f\"Expected Annual Return: {optimal_portfolio_return * 100:.2f}%\")\n",
        "print(f\"Annual Volatility: {optimal_portfolio_volatility * 100:.2f}%\")\n",
        "print(f\"Sharpe Ratio: {optimal_sharpe_ratio:.2f}\")"
      ],
      "metadata": {
        "colab": {
          "base_uri": "https://localhost:8080/"
        },
        "id": "Y3-gNls2ARWw",
        "outputId": "bdf7581d-4379-4c22-ed3c-870b754e1e9c"
      },
      "execution_count": 22,
      "outputs": [
        {
          "output_type": "stream",
          "name": "stdout",
          "text": [
            "OPTIMAL WEIGHTS : \n",
            "SPY: 50.00%\n",
            "BND: 0.00%\n",
            "GLD: 49.33%\n",
            "QQQ: 0.00%\n",
            "VTI: 0.67%\n",
            "\n",
            "Expected Annual Return: 15.01%\n",
            "Annual Volatility: 12.37%\n",
            "Sharpe Ratio: 0.85\n"
          ]
        }
      ]
    },
    {
      "cell_type": "markdown",
      "source": [
        "**Display the final portfolio in plot**"
      ],
      "metadata": {
        "id": "hiTG1DUsBCl4"
      }
    },
    {
      "cell_type": "code",
      "source": [
        "import matplotlib.pyplot as plt\n",
        "\n",
        "plt.figure(figsize = (10, 6))\n",
        "plt.bar(tickers, optimal_weights)\n",
        "\n",
        "plt.xlabel('Assets')\n",
        "plt.ylabel('Optimal Weights')\n",
        "plt.title('Optimal Portfolio Weights')\n",
        "plt.show()"
      ],
      "metadata": {
        "colab": {
          "base_uri": "https://localhost:8080/",
          "height": 434
        },
        "id": "DziTqKzcBBp3",
        "outputId": "f3837887-8450-4065-d440-210c6d9927dd"
      },
      "execution_count": 23,
      "outputs": [
        {
          "output_type": "display_data",
          "data": {
            "text/plain": [
              "<Figure size 1000x600 with 1 Axes>"
            ],
            "image/png": "[encoded data removed]"
          },
          "metadata": {}
        }
      ]
    },
    {
      "cell_type": "code",
      "source": [],
      "metadata": {
        "id": "-_tHp-m5Bg59"
      },
      "execution_count": null,
      "outputs": []
    }
  ]
}